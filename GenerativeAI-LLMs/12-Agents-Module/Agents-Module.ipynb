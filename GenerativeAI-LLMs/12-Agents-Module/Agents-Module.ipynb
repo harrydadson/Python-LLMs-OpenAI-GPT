{
 "cells": [
  {
   "cell_type": "markdown",
   "metadata": {},
   "source": [
    "Action Agents:\n",
    "\n",
    "1. Receives user input\n",
    "2. Decides which tool, if any, to use and the tool input\n",
    "3. Calls the tool and records the output (aslso known as 'observation')\n",
    "4. Decides the next step using the history of tools, tool inputs, and observations\n",
    "5. Repeats 3-4 until it determines it can respond directly to the user input"
   ]
  },
  {
   "cell_type": "markdown",
   "metadata": {},
   "source": [
    "Plan-And-Execute Agents:\n",
    "\n",
    "1. Receives an input\n",
    "2. Plans the full sequence of steps to take\n",
    "3. Executes the steps in order, passing the outputs of past steps as inputs to future steps"
   ]
  },
  {
   "cell_type": "markdown",
   "metadata": {},
   "source": []
  }
 ],
 "metadata": {
  "language_info": {
   "name": "python"
  }
 },
 "nbformat": 4,
 "nbformat_minor": 2
}
