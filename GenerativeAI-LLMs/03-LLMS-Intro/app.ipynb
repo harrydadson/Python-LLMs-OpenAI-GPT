{
 "cells": [
  {
   "cell_type": "code",
   "execution_count": 1,
   "metadata": {},
   "outputs": [],
   "source": [
    "import os, openai\n",
    "from dotenv import load_dotenv, dotenv_values, find_dotenv\n",
    "\n",
    "load_dotenv()\n",
    "config = dotenv_values(\".env\")\n",
    "openai.api_key = config[\"OPENAI_API_KEY\"]"
   ]
  },
  {
   "cell_type": "code",
   "execution_count": 8,
   "metadata": {},
   "outputs": [],
   "source": [
    "from langchain.chat_models import ChatOpenAI\n",
    "from langchain.schema import HumanMessage, SystemMessage, AIMessage\n",
    "\n",
    "chat = ChatOpenAI(temperature=0.7, model='gpt-3.5-turbo')"
   ]
  },
  {
   "cell_type": "code",
   "execution_count": null,
   "metadata": {},
   "outputs": [],
   "source": [
    "system = \"You are a sarcastic AI assistant\"\n",
    "human = \"Please answer in 30 words: How can I learn driving a car?\"\n",
    "\n",
    "chat(\n",
    "    [\n",
    "        SystemMessage(content=f\"{system}\"),\n",
    "        HumanMessage(content=f\"{human}\")\n",
    "    ]\n",
    ")"
   ]
  },
  {
   "cell_type": "code",
   "execution_count": null,
   "metadata": {},
   "outputs": [],
   "source": [
    "system1 = \"You are a 3 year old girl who answers very cutely and in a funny way\"\n",
    "human1 = \"How can I learn driving a car?\"\n",
    "AImsg = \"I can't drive yet! But I have a driver my dad...\"\n",
    "human2 = \"Can you teach me driving?\"\n",
    "\n",
    "chat(\n",
    "    [\n",
    "        SystemMessage(content=f\"{system1}\"),\n",
    "        HumanMessage(content=f\"{human1}\"),\n",
    "        AIMessage(content=f\"{AImsg}\"),\n",
    "        HumanMessage(content=f\"{human2}\")\n",
    "    ]\n",
    ")"
   ]
  }
 ],
 "metadata": {
  "kernelspec": {
   "display_name": "Python 3",
   "language": "python",
   "name": "python3"
  },
  "language_info": {
   "codemirror_mode": {
    "name": "ipython",
    "version": 3
   },
   "file_extension": ".py",
   "mimetype": "text/x-python",
   "name": "python",
   "nbconvert_exporter": "python",
   "pygments_lexer": "ipython3",
   "version": "3.10.4"
  }
 },
 "nbformat": 4,
 "nbformat_minor": 2
}
