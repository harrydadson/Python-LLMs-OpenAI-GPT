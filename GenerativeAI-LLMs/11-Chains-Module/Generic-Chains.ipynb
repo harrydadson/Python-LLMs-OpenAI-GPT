{
 "cells": [
  {
   "cell_type": "markdown",
   "id": "336b9395",
   "metadata": {},
   "source": [
    "# Generic Chains Overview"
   ]
  },
  {
   "cell_type": "markdown",
   "id": "1dcb42ef",
   "metadata": {},
   "source": [
    "## Simple Chain"
   ]
  },
  {
   "cell_type": "markdown",
   "id": "0b094e82",
   "metadata": {},
   "source": [
    "<font color='green'>\n",
    "The most elementary type of chain is known as a basic chain, which represents the simplest form of crafting a chain. <br>In this setup, there is only one Language Model (LLM) responsible for receiving an input prompt and using it for generating text.\n",
    "<font>"
   ]
  },
  {
   "cell_type": "code",
   "execution_count": 4,
   "id": "6b36c04f",
   "metadata": {},
   "outputs": [],
   "source": [
    "import os\n",
    "import openai\n",
    "from dotenv import load_dotenv, dotenv_values\n",
    "\n",
    "load_dotenv()\n",
    "config = dotenv_values(\".env\")\n",
    "apikey = openai.api_key = config[\"OPENAI_API_KEY\"]\n",
    "HuggingFaceHub_api_key = config[\"HUGGINGFACEHUB_API_TOKEN\"]"
   ]
  },
  {
   "cell_type": "code",
   "execution_count": 5,
   "id": "a8d7c528",
   "metadata": {},
   "outputs": [],
   "source": [
    "from langchain.llms import OpenAI\n",
    "from langchain.prompts import PromptTemplate\n",
    "from langchain.chains import LLMChain"
   ]
  },
  {
   "cell_type": "code",
   "execution_count": 6,
   "id": "5547ab07",
   "metadata": {},
   "outputs": [],
   "source": [
    "llm = OpenAI()"
   ]
  },
  {
   "cell_type": "code",
   "execution_count": 7,
   "id": "436017aa",
   "metadata": {},
   "outputs": [],
   "source": [
    "prompt = PromptTemplate(\n",
    "    input_variables=[\"place\"],\n",
    "    template=\"Best places to visit in {place}?\",\n",
    ")"
   ]
  },
  {
   "cell_type": "code",
   "execution_count": 8,
   "id": "2477a555",
   "metadata": {},
   "outputs": [
    {
     "name": "stdout",
     "output_type": "stream",
     "text": [
      "\n",
      "\n",
      "1. Accra: Ghana’s vibrant capital city, Accra offers visitors a mix of history, culture and modern amenities. Explore the bustling Makola Market, visit the National Museum of Ghana, or take a boat ride along the banks of the Volta River.\n",
      "\n",
      "2. Cape Coast Castle: Located near the town of Cape Coast, this castle is one of the most important historical sites in Ghana, having served as the hub of the slave trade during the 17th and 18th centuries.\n",
      "\n",
      "3. Mole National Park: Set in the northern region of Ghana, Mole National Park is the country’s largest game reserve and home to elephants, antelopes, buffalo and other wildlife.\n",
      "\n",
      "4. Bobiri Butterfly Sanctuary: Located near Kumasi, the Bobiri Butterfly Sanctuary is home to more than 50 species of butterflies, as well as a number of birds and other wildlife.\n",
      "\n",
      "5. Kakum National Park: Located in the Central Region of Ghana, Kakum National Park is home to a number of endangered species, including the endangered Diana monkey.\n",
      "\n",
      "6. Lake Bosomtwe: Located near Kumasi, Lake Bosomtwe is the largest natural lake in Ghana and is home to a variety of\n"
     ]
    }
   ],
   "source": [
    "chain = LLMChain(llm=llm, prompt=prompt)\n",
    "\n",
    "# Run the chain only specifying the input variable.\n",
    "print(chain.run(\"Ghana\"))"
   ]
  },
  {
   "cell_type": "markdown",
   "id": "c88205e2",
   "metadata": {},
   "source": [
    "## Simple Sequential Chains"
   ]
  },
  {
   "cell_type": "markdown",
   "id": "4eb1850c",
   "metadata": {},
   "source": [
    "<font color='green'>\n",
    "Sequential Chains involves making a series of consecutive calls to the language model.<br> This approach proves especially valuable when there is a need to utilize the output generated from one call as the input for another call.\n",
    "<font>"
   ]
  },
  {
   "cell_type": "code",
   "execution_count": 9,
   "id": "76654563",
   "metadata": {},
   "outputs": [],
   "source": [
    "from langchain.chains import SimpleSequentialChain\n",
    "from langchain import HuggingFaceHub"
   ]
  },
  {
   "cell_type": "code",
   "execution_count": 10,
   "id": "92f94dc5",
   "metadata": {},
   "outputs": [],
   "source": [
    "template = \"\"\"You have to suggest 5 best places to visit in {place}?\n",
    "\n",
    "YOUR RESPONSE:\n",
    "\"\"\"\n",
    "prompt_template = PromptTemplate(\n",
    "    input_variables=[\"place\"], \n",
    "    template=template)"
   ]
  },
  {
   "cell_type": "code",
   "execution_count": 11,
   "id": "77104326",
   "metadata": {},
   "outputs": [
    {
     "name": "stderr",
     "output_type": "stream",
     "text": [
      "/Library/Frameworks/Python.framework/Versions/3.10/lib/python3.10/site-packages/tqdm/auto.py:21: TqdmWarning: IProgress not found. Please update jupyter and ipywidgets. See https://ipywidgets.readthedocs.io/en/stable/user_install.html\n",
      "  from .autonotebook import tqdm as notebook_tqdm\n",
      "/Library/Frameworks/Python.framework/Versions/3.10/lib/python3.10/site-packages/huggingface_hub/utils/_deprecation.py:127: FutureWarning: '__init__' (from 'huggingface_hub.inference_api') is deprecated and will be removed from version '0.19.0'. `InferenceApi` client is deprecated in favor of the more feature-complete `InferenceClient`. Check out this guide to learn how to convert your script to use it: https://huggingface.co/docs/huggingface_hub/guides/inference#legacy-inferenceapi-client.\n",
      "  warnings.warn(warning_message, FutureWarning)\n"
     ]
    }
   ],
   "source": [
    "HF_llm= HuggingFaceHub(repo_id = \"google/flan-t5-large\")"
   ]
  },
  {
   "cell_type": "code",
   "execution_count": 12,
   "id": "2578b568",
   "metadata": {},
   "outputs": [],
   "source": [
    "llm = OpenAI()"
   ]
  },
  {
   "cell_type": "code",
   "execution_count": 13,
   "id": "aa350baf",
   "metadata": {},
   "outputs": [],
   "source": [
    "place_chain = LLMChain(llm=llm, prompt=prompt_template)"
   ]
  },
  {
   "cell_type": "code",
   "execution_count": 14,
   "id": "d4ea5942",
   "metadata": {},
   "outputs": [],
   "source": [
    "template = \"\"\"Given a list a places, please estimate the expenses to visit all of them in local currency and also the days needed\n",
    "{expenses}\n",
    "\n",
    "YOUR RESPONSE:\n",
    "\"\"\"\n",
    "prompt_template = PromptTemplate(\n",
    "    input_variables=[\"expenses\"],\n",
    "    template=template)"
   ]
  },
  {
   "cell_type": "code",
   "execution_count": 15,
   "id": "61ca518d",
   "metadata": {},
   "outputs": [],
   "source": [
    "llm = OpenAI()"
   ]
  },
  {
   "cell_type": "code",
   "execution_count": 16,
   "id": "ef315099",
   "metadata": {},
   "outputs": [],
   "source": [
    "expenses_chain = LLMChain(llm=llm, prompt=prompt_template)"
   ]
  },
  {
   "cell_type": "code",
   "execution_count": 17,
   "id": "16e97f98",
   "metadata": {},
   "outputs": [],
   "source": [
    "final_chain = SimpleSequentialChain(chains=[place_chain, expenses_chain], verbose=True)"
   ]
  },
  {
   "cell_type": "code",
   "execution_count": 18,
   "id": "98487cc4",
   "metadata": {},
   "outputs": [
    {
     "name": "stdout",
     "output_type": "stream",
     "text": [
      "\n",
      "\n",
      "\u001b[1m> Entering new SimpleSequentialChain chain...\u001b[0m\n",
      "\u001b[36;1m\u001b[1;3m1. Accra: The capital city of Ghana, Accra is a vibrant and bustling city with plenty of great attractions to explore, such as the National Museum of Ghana, the Kwame Nkrumah Memorial Park, and the W.E.B. Du Bois Memorial Centre.\n",
      "\n",
      "2. Mole National Park: Located in the northern region of Ghana, this is the largest and most popular national park in the country. Here you can find a wealth of different wildlife, including elephants, antelopes, and primates. \n",
      "\n",
      "3. Cape Coast Castle: This UNESCO World Heritage site is one of the most important historical monuments in the country, and a must-see for any visitor. It was an important trading center during the colonial era and a reminder of the slave trade.\n",
      "\n",
      "4. Lake Bosomtwe: Located in the Ashanti region, this lake is a peaceful and beautiful spot to relax and enjoy nature. It's the largest natural lake in Ghana and home to a variety of different fish species.\n",
      "\n",
      "5. Elmina Castle: Another UNESCO World Heritage site, the Elmina Castle is the oldest European building in existence in the country. It was built by the Portuguese in 1482 and has a long and fascinating\u001b[0m\n",
      "\u001b[33;1m\u001b[1;3mThe total estimated expenses for visiting all of these places in local currency would be around GH₵1,500. This includes admission fees, transportation, food, and accommodation. The total number of days needed to visit all of these places would be around 3-4 days.\u001b[0m\n",
      "\n",
      "\u001b[1m> Finished chain.\u001b[0m\n"
     ]
    }
   ],
   "source": [
    "review = final_chain.run(\"Ghana\")"
   ]
  },
  {
   "cell_type": "code",
   "execution_count": null,
   "id": "a2c09bca",
   "metadata": {},
   "outputs": [],
   "source": []
  }
 ],
 "metadata": {
  "kernelspec": {
   "display_name": "Python 3 (ipykernel)",
   "language": "python",
   "name": "python3"
  },
  "language_info": {
   "codemirror_mode": {
    "name": "ipython",
    "version": 3
   },
   "file_extension": ".py",
   "mimetype": "text/x-python",
   "name": "python",
   "nbconvert_exporter": "python",
   "pygments_lexer": "ipython3",
   "version": "3.10.4"
  }
 },
 "nbformat": 4,
 "nbformat_minor": 5
}
