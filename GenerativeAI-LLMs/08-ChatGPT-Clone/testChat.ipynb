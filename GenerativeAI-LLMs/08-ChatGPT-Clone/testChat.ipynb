{
 "cells": [
  {
   "cell_type": "code",
   "execution_count": 1,
   "metadata": {},
   "outputs": [
    {
     "name": "stdout",
     "output_type": "stream",
     "text": [
      "content='Why did the penguin sit on the fridge? Because he wanted to chill out!'\n"
     ]
    }
   ],
   "source": [
    "import os\n",
    "import dotenv\n",
    "from dotenv import load_dotenv\n",
    "\n",
    "from langchain.chat_models import AzureChatOpenAI\n",
    "from langchain.schema import HumanMessage\n",
    "\n",
    "# Load environment variables from .env file\n",
    "dotenv.load_dotenv('.env')\n",
    "\n",
    "# Create an instance of the AzureChatOpenAI class using Azure OpenAI\n",
    "llm = AzureChatOpenAI(\n",
    "    azure_deployment=os.getenv(\"OPENAI_MODEL_NAME\"),\n",
    "    azure_endpoint=f\"https://{os.getenv('AZURE_OPENAI_SERVICE_NAME')}.openai.azure.com/\",\n",
    "    temperature=0.7,\n",
    "    api_version=\"2023-05-15\")\n",
    "\n",
    "# Testing chat llm  \n",
    "res = llm([HumanMessage(content=\"Tell me a joke about a penguin sitting on a fridge.\")])\n",
    "print(res)"
   ]
  },
  {
   "cell_type": "code",
   "execution_count": null,
   "metadata": {},
   "outputs": [],
   "source": []
  }
 ],
 "metadata": {
  "kernelspec": {
   "display_name": "Python 3",
   "language": "python",
   "name": "python3"
  },
  "language_info": {
   "codemirror_mode": {
    "name": "ipython",
    "version": 3
   },
   "file_extension": ".py",
   "mimetype": "text/x-python",
   "name": "python",
   "nbconvert_exporter": "python",
   "pygments_lexer": "ipython3",
   "version": "3.10.4"
  }
 },
 "nbformat": 4,
 "nbformat_minor": 2
}
