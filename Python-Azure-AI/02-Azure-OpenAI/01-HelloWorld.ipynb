{
 "cells": [
  {
   "cell_type": "code",
   "execution_count": 12,
   "metadata": {},
   "outputs": [],
   "source": [
    "import openai\n",
    "from openai import AzureOpenAI\n",
    "from dotenv import load_dotenv, dotenv_values\n",
    "\n",
    "load_dotenv()\n",
    "config = dotenv_values(\".env\")\n"
   ]
  },
  {
   "cell_type": "code",
   "execution_count": 13,
   "metadata": {},
   "outputs": [],
   "source": [
    "# deployment_name = \"dpmnt002\"\n",
    "# openai.api_type = \"azure\"\n",
    "# openai.api_key = config[\"OPENAI_API_KEY\"]\n",
    "# #openai.api_base = config[\"OPENAI_API_BASE\"]\n",
    "# openai.api_version = \"2023-05-15\""
   ]
  },
  {
   "cell_type": "code",
   "execution_count": 21,
   "metadata": {},
   "outputs": [
    {
     "name": "stdout",
     "output_type": "stream",
     "text": [
      "Summary: Certainly! Here's an example function that adds two numbers together:\n",
      "\n",
      "```python\n",
      "def add_numbers(num1, num2):\n",
      "    return num1 +\n",
      "\n"
     ]
    }
   ],
   "source": [
    "# prompt = \"Write a Python function to add 2 numbers\"\n",
    "\n",
    "# result = openai.Completion.create(\n",
    "#     prompt=prompt,\n",
    "#     temperature=0,\n",
    "#     max_tokens=30,\n",
    "#     engine=deployment_name\n",
    "# )\n",
    "\n",
    "# print(result.choices[0].text)\n",
    "\n",
    "client = AzureOpenAI(\n",
    "         azure_endpoint = config[\"OPENAI_API_BASE\"], \n",
    "         api_key=config[\"OPENAI_API_KEY\"],  \n",
    "         api_version=\"2023-05-15\"\n",
    "         )\n",
    "\n",
    "prompt = \"Write a Python function to add 2 numbers\"\n",
    "\n",
    "result = client.chat.completions.create(\n",
    "    model='gpt-35-turbo',\n",
    "    temperature=0,\n",
    "    max_tokens=30,\n",
    "    messages=[\n",
    "         {\"role\": \"system\", \"content\": \"You are a helpful assistant.\"},\n",
    "         {\"role\": \"user\", \"content\": \"Write a Python function to add 2 numbers:\\n\"}\n",
    "     ]\n",
    ")\n",
    "\n",
    "print(\"Summary: \" + result.choices[0].message.content + \"\\n\")"
   ]
  },
  {
   "cell_type": "code",
   "execution_count": null,
   "metadata": {},
   "outputs": [],
   "source": []
  }
 ],
 "metadata": {
  "kernelspec": {
   "display_name": "Python 3",
   "language": "python",
   "name": "python3"
  },
  "language_info": {
   "codemirror_mode": {
    "name": "ipython",
    "version": 3
   },
   "file_extension": ".py",
   "mimetype": "text/x-python",
   "name": "python",
   "nbconvert_exporter": "python",
   "pygments_lexer": "ipython3",
   "version": "3.10.4"
  }
 },
 "nbformat": 4,
 "nbformat_minor": 2
}
