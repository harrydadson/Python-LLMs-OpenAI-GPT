{
 "cells": [
  {
   "cell_type": "code",
   "execution_count": 1,
   "metadata": {},
   "outputs": [],
   "source": [
    "from azure.core.credentials import AzureKeyCredential\n",
    "from azure.ai.textanalytics import TextAnalyticsClient\n",
    "\n",
    "import os\n",
    "import openai\n",
    "from dotenv import load_dotenv, dotenv_values\n",
    "\n",
    "load_dotenv()\n",
    "config = dotenv_values(\".env\")\n",
    "\n",
    "API_KEY = config[\"API_KEY\"]\n",
    "ENDPOINT = config[\"ENDPOINT\"]"
   ]
  },
  {
   "cell_type": "code",
   "execution_count": 2,
   "metadata": {},
   "outputs": [],
   "source": [
    "def client():\n",
    "    try:\n",
    "        ta_credential = AzureKeyCredential(API_KEY)\n",
    "        text_analytics_client = TextAnalyticsClient(\n",
    "            endpoint=ENDPOINT, \n",
    "            credential=ta_credential)\n",
    "        return text_analytics_client\n",
    "    except Exception as e:\n",
    "        print(\"Error: {e}\")\n",
    "        return None"
   ]
  },
  {
   "cell_type": "code",
   "execution_count": 3,
   "metadata": {},
   "outputs": [],
   "source": [
    "client = client()\n",
    "\n",
    "text_strings = [\n",
    "    \"This is written in English.\",\n",
    "    \"Ceci est écrit en Français.\",\n",
    "    \"Dies ist in deutscher Sprache geschrieben.\",\n",
    "    \"Esto está escrito en español.\",\n",
    "    \"Questo è scritto in italiano.\",\n",
    "    \"これは日本語で書かれています。\",\n",
    "    \"이것은 한국어로 쓰여졌습니다.\",\n",
    "    \"這是用中文寫的。\"\n",
    "]\n",
    "\n",
    "response = client.detect_language(documents=text_strings, country_hint=\"US\")\n"
   ]
  },
  {
   "cell_type": "code",
   "execution_count": 6,
   "metadata": {},
   "outputs": [
    {
     "name": "stdout",
     "output_type": "stream",
     "text": [
      "original text:\n",
      "This is written in English.\n",
      "Language detected: English\n",
      "Language confidence score: 0.99\n",
      "\n",
      "original text:\n",
      "Ceci est écrit en Français.\n",
      "Language detected: French\n",
      "Language confidence score: 1.0\n",
      "\n",
      "original text:\n",
      "Dies ist in deutscher Sprache geschrieben.\n",
      "Language detected: German\n",
      "Language confidence score: 1.0\n",
      "\n",
      "original text:\n",
      "Esto está escrito en español.\n",
      "Language detected: Spanish\n",
      "Language confidence score: 1.0\n",
      "\n",
      "original text:\n",
      "Questo è scritto in italiano.\n",
      "Language detected: Italian\n",
      "Language confidence score: 1.0\n",
      "\n",
      "original text:\n",
      "これは日本語で書かれています。\n",
      "Language detected: Japanese\n",
      "Language confidence score: 1.0\n",
      "\n",
      "original text:\n",
      "이것은 한국어로 쓰여졌습니다.\n",
      "Language detected: Korean\n",
      "Language confidence score: 1.0\n",
      "\n",
      "original text:\n",
      "這是用中文寫的。\n",
      "Language detected: Chinese_Traditional\n",
      "Language confidence score: 1.0\n",
      "\n"
     ]
    }
   ],
   "source": [
    "for idx, language_detected in enumerate(response):\n",
    "    print('original text:')\n",
    "    print(text_strings[idx])\n",
    "    print('Language detected: {0}'.format(language_detected.primary_language.name))\n",
    "    print('Language confidence score: {0}'.format(language_detected.primary_language.confidence_score))\n",
    "    print(\"\")"
   ]
  },
  {
   "cell_type": "code",
   "execution_count": null,
   "metadata": {},
   "outputs": [],
   "source": []
  }
 ],
 "metadata": {
  "kernelspec": {
   "display_name": "Python 3",
   "language": "python",
   "name": "python3"
  },
  "language_info": {
   "codemirror_mode": {
    "name": "ipython",
    "version": 3
   },
   "file_extension": ".py",
   "mimetype": "text/x-python",
   "name": "python",
   "nbconvert_exporter": "python",
   "pygments_lexer": "ipython3",
   "version": "3.10.4"
  }
 },
 "nbformat": 4,
 "nbformat_minor": 2
}
