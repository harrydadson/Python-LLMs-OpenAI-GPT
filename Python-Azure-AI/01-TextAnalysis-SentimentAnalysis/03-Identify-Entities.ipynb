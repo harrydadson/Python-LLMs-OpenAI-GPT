{
 "cells": [
  {
   "cell_type": "code",
   "execution_count": 1,
   "metadata": {},
   "outputs": [],
   "source": [
    "from azure.core.credentials import AzureKeyCredential\n",
    "from azure.ai.textanalytics import TextAnalyticsClient\n",
    "\n",
    "import os\n",
    "import openai\n",
    "from dotenv import load_dotenv, dotenv_values\n",
    "\n",
    "load_dotenv()\n",
    "config = dotenv_values(\".env\")\n",
    "\n",
    "API_KEY = config[\"API_KEY\"]\n",
    "ENDPOINT = config[\"ENDPOINT\"]"
   ]
  },
  {
   "cell_type": "code",
   "execution_count": 8,
   "metadata": {},
   "outputs": [],
   "source": [
    "def client():\n",
    "    try:\n",
    "        ta_credential = AzureKeyCredential(API_KEY)\n",
    "        text_analytics_client = TextAnalyticsClient(\n",
    "            endpoint=ENDPOINT, \n",
    "            credential=ta_credential)\n",
    "        return text_analytics_client\n",
    "    except Exception as e:\n",
    "        print(\"Error: {e}\")\n",
    "        return None"
   ]
  },
  {
   "cell_type": "code",
   "execution_count": 13,
   "metadata": {},
   "outputs": [
    {
     "ename": "TypeError",
     "evalue": "'TextAnalyticsClient' object is not callable",
     "output_type": "error",
     "traceback": [
      "\u001b[0;31m---------------------------------------------------------------------------\u001b[0m",
      "\u001b[0;31mTypeError\u001b[0m                                 Traceback (most recent call last)",
      "\u001b[1;32m/Users/harryd/Desktop/Self-Study/Python-LLMs-OpenAI-GPT/Python-Azure-AI/01-TextAnalysis-SentimentAnalysis/03-Identify-Entities.ipynb Cell 3\u001b[0m line \u001b[0;36m1\n\u001b[0;32m----> <a href='vscode-notebook-cell:/Users/harryd/Desktop/Self-Study/Python-LLMs-OpenAI-GPT/Python-Azure-AI/01-TextAnalysis-SentimentAnalysis/03-Identify-Entities.ipynb#W2sZmlsZQ%3D%3D?line=0'>1</a>\u001b[0m client \u001b[39m=\u001b[39m client()\n\u001b[1;32m      <a href='vscode-notebook-cell:/Users/harryd/Desktop/Self-Study/Python-LLMs-OpenAI-GPT/Python-Azure-AI/01-TextAnalysis-SentimentAnalysis/03-Identify-Entities.ipynb#W2sZmlsZQ%3D%3D?line=2'>3</a>\u001b[0m documents \u001b[39m=\u001b[39m [\n\u001b[1;32m      <a href='vscode-notebook-cell:/Users/harryd/Desktop/Self-Study/Python-LLMs-OpenAI-GPT/Python-Azure-AI/01-TextAnalysis-SentimentAnalysis/03-Identify-Entities.ipynb#W2sZmlsZQ%3D%3D?line=3'>4</a>\u001b[0m \u001b[39m    \u001b[39m\u001b[39m\"\"\"\u001b[39;00m\n\u001b[1;32m      <a href='vscode-notebook-cell:/Users/harryd/Desktop/Self-Study/Python-LLMs-OpenAI-GPT/Python-Azure-AI/01-TextAnalysis-SentimentAnalysis/03-Identify-Entities.ipynb#W2sZmlsZQ%3D%3D?line=4'>5</a>\u001b[0m \u001b[39m    Google is not a conventional company, and we don’t intend to become one. True, we share attributes with the world’s most successful organizations – a focus on innovation and smart business practices comes to mind – but even as we continue to grow, we’re committed to retaining a small-company feel. At Google, we know that every employee has something important to say, and that every employee is integral to our success. We provide individually-tailored compensation packages that can be comprised of competitive salary, bonus, and equity components, along with the opportunity to earn further financial bonuses and rewards.\u001b[39;00m\n\u001b[0;32m   (...)\u001b[0m\n\u001b[1;32m      <a href='vscode-notebook-cell:/Users/harryd/Desktop/Self-Study/Python-LLMs-OpenAI-GPT/Python-Azure-AI/01-TextAnalysis-SentimentAnalysis/03-Identify-Entities.ipynb#W2sZmlsZQ%3D%3D?line=8'>9</a>\u001b[0m \u001b[39m    \"\"\"\u001b[39;00m\n\u001b[1;32m     <a href='vscode-notebook-cell:/Users/harryd/Desktop/Self-Study/Python-LLMs-OpenAI-GPT/Python-Azure-AI/01-TextAnalysis-SentimentAnalysis/03-Identify-Entities.ipynb#W2sZmlsZQ%3D%3D?line=9'>10</a>\u001b[0m ]\n\u001b[1;32m     <a href='vscode-notebook-cell:/Users/harryd/Desktop/Self-Study/Python-LLMs-OpenAI-GPT/Python-Azure-AI/01-TextAnalysis-SentimentAnalysis/03-Identify-Entities.ipynb#W2sZmlsZQ%3D%3D?line=11'>12</a>\u001b[0m response \u001b[39m=\u001b[39m client\u001b[39m.\u001b[39mrecognize_entities(documents\u001b[39m=\u001b[39mdocuments)\n",
      "\u001b[0;31mTypeError\u001b[0m: 'TextAnalyticsClient' object is not callable"
     ]
    }
   ],
   "source": [
    "client = client()\n",
    "\n",
    "documents = [\n",
    "    \"\"\"\n",
    "    Google is not a conventional company, and we don’t intend to become one. True, we share attributes with the world’s most successful organizations – a focus on innovation and smart business practices comes to mind – but even as we continue to grow, we’re committed to retaining a small-company feel. At Google, we know that every employee has something important to say, and that every employee is integral to our success. We provide individually-tailored compensation packages that can be comprised of competitive salary, bonus, and equity components, along with the opportunity to earn further financial bonuses and rewards.\n",
    "\n",
    "    Googlers thrive in small, focused teams and high-energy environments, believe in the ability of technology to change the world, and are as passionate about their lives as they are about their work. For more information, visit careers.google.com.\n",
    "    Mission: Google’s mission is to organize the world’s information and make it universally accessible and useful.\n",
    "    \"\"\"\n",
    "]\n",
    "\n",
    "response = client.recognize_entities(documents=documents)\n",
    "\n"
   ]
  },
  {
   "cell_type": "code",
   "execution_count": 14,
   "metadata": {},
   "outputs": [
    {
     "name": "stdout",
     "output_type": "stream",
     "text": [
      "Entity Name: Google\n",
      "Entity Category: Organization\n",
      "Entity Subcategory: None\n",
      "--------------------------------------------------\n",
      "Entity Name: one\n",
      "Entity Category: Quantity\n",
      "Entity Subcategory: Number\n",
      "--------------------------------------------------\n",
      "Entity Name: innovation\n",
      "Entity Category: Skill\n",
      "Entity Subcategory: None\n",
      "--------------------------------------------------\n",
      "Entity Name: business\n",
      "Entity Category: Skill\n",
      "Entity Subcategory: None\n",
      "--------------------------------------------------\n",
      "Entity Name: Google\n",
      "Entity Category: Organization\n",
      "Entity Subcategory: None\n",
      "--------------------------------------------------\n",
      "Entity Name: employee\n",
      "Entity Category: PersonType\n",
      "Entity Subcategory: None\n",
      "--------------------------------------------------\n",
      "Entity Name: employee\n",
      "Entity Category: PersonType\n",
      "Entity Subcategory: None\n",
      "--------------------------------------------------\n",
      "Entity Name: Googlers\n",
      "Entity Category: PersonType\n",
      "Entity Subcategory: None\n",
      "--------------------------------------------------\n",
      "Entity Name: technology\n",
      "Entity Category: Skill\n",
      "Entity Subcategory: None\n",
      "--------------------------------------------------\n",
      "Entity Name: careers.google.com\n",
      "Entity Category: URL\n",
      "Entity Subcategory: None\n",
      "--------------------------------------------------\n",
      "Entity Name: Google\n",
      "Entity Category: Organization\n",
      "Entity Subcategory: None\n",
      "--------------------------------------------------\n",
      "Entity Name: organize\n",
      "Entity Category: Skill\n",
      "Entity Subcategory: None\n",
      "--------------------------------------------------\n"
     ]
    }
   ],
   "source": [
    "for result in response:\n",
    "    for entity in result.entities:\n",
    "        print('Entity Name: {0}'.format(entity.text))\n",
    "        # entity.length # text length\n",
    "        print('Entity Category: {0}'.format(entity.category))\n",
    "        print('Entity Subcategory: {0}'.format(entity.subcategory))\n",
    "        print('-'*50)"
   ]
  },
  {
   "cell_type": "code",
   "execution_count": 16,
   "metadata": {},
   "outputs": [
    {
     "name": "stdout",
     "output_type": "stream",
     "text": [
      "Named Entities: \n",
      "\n",
      "\tText: \t Ghana \tCategory: \t Location \tSubCategory: \t GPE \n",
      "\tConfidence Score: \t 1.0 \tLength: \t 5 \tOffset: \t 26 \n",
      "\n",
      "\tText: \t last year \tCategory: \t DateTime \tSubCategory: \t DateRange \n",
      "\tConfidence Score: \t 0.8 \tLength: \t 9 \tOffset: \t 32 \n",
      "\n"
     ]
    }
   ],
   "source": [
    "def entity_recognition(client):\n",
    "    \n",
    "    try:\n",
    "        documents = [\"I had a wonderful time in Ghana last year. I hope to visit again soon!\"]\n",
    "        result = client.recognize_entities(documents=documents)[0]\n",
    "        \n",
    "        print('Named Entities: \\n')\n",
    "        for entity in result.entities:\n",
    "            print(\"\\tText: \\t\", entity.text, \"\\tCategory: \\t\", entity.category, \"\\tSubCategory: \\t\", entity.subcategory, \"\\n\\tConfidence Score: \\t\", round(entity.confidence_score, 2), \"\\tLength: \\t\", entity.length, \"\\tOffset: \\t\", entity.offset, \"\\n\")\n",
    "            \n",
    "    except Exception as err:\n",
    "        print(\"Encountered exception. {}\".format(err))\n",
    "        \n",
    "entity_recognition(client)\n"
   ]
  },
  {
   "cell_type": "code",
   "execution_count": null,
   "metadata": {},
   "outputs": [],
   "source": []
  }
 ],
 "metadata": {
  "kernelspec": {
   "display_name": "Python 3",
   "language": "python",
   "name": "python3"
  },
  "language_info": {
   "codemirror_mode": {
    "name": "ipython",
    "version": 3
   },
   "file_extension": ".py",
   "mimetype": "text/x-python",
   "name": "python",
   "nbconvert_exporter": "python",
   "pygments_lexer": "ipython3",
   "version": "3.10.4"
  }
 },
 "nbformat": 4,
 "nbformat_minor": 2
}
