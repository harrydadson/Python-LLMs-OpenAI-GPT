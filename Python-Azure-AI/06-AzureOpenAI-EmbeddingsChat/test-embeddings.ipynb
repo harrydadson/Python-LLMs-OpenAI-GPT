{
 "cells": [
  {
   "cell_type": "code",
   "execution_count": 1,
   "metadata": {},
   "outputs": [
    {
     "name": "stdout",
     "output_type": "stream",
     "text": [
      "1536\n"
     ]
    }
   ],
   "source": [
    "import os\n",
    "from langchain.embeddings import AzureOpenAIEmbeddings\n",
    "import dotenv\n",
    "\n",
    "# Load environment variables from .env file\n",
    "dotenv.load_dotenv()\n",
    "\n",
    "# Create an instance of the OpenAIEmbeddings class using Azure OpenAI\n",
    "embeddings = AzureOpenAIEmbeddings(\n",
    "    azure_deployment = os.getenv(\"AZURE_OPENAI_EMBEDDING_DEPLOYMENT\"),\n",
    "    azure_endpoint = f\"https://{os.getenv('AZURE_OPENAI_SERVICE_NAME')}.openai.azure.com/\",\n",
    "    chunk_size=1)\n",
    "\n",
    "# Testing embeddings\n",
    "txt = \"This is how you configure it directly in the constructor.\"\n",
    "\n",
    "# Embed a single document\n",
    "e = embeddings.embed_query(txt)\n",
    "\n",
    "print(len(e)) # should be 1536"
   ]
  },
  {
   "cell_type": "code",
   "execution_count": null,
   "metadata": {},
   "outputs": [],
   "source": []
  }
 ],
 "metadata": {
  "kernelspec": {
   "display_name": "Python 3",
   "language": "python",
   "name": "python3"
  },
  "language_info": {
   "codemirror_mode": {
    "name": "ipython",
    "version": 3
   },
   "file_extension": ".py",
   "mimetype": "text/x-python",
   "name": "python",
   "nbconvert_exporter": "python",
   "pygments_lexer": "ipython3",
   "version": "3.10.4"
  }
 },
 "nbformat": 4,
 "nbformat_minor": 2
}
